{
 "cells": [
  {
   "cell_type": "code",
   "execution_count": 14,
   "metadata": {
    "collapsed": true
   },
   "outputs": [],
   "source": [
    "import json \n",
    "import requests as req \n",
    "import apikeys\n",
    "from citipy import citipy"
   ]
  },
  {
   "cell_type": "code",
   "execution_count": 15,
   "metadata": {
    "collapsed": true
   },
   "outputs": [],
   "source": [
    "cities = ['London', 'Paris', 'New York', 'Tokyo']\n",
    "#city = citipy.nearest_city(59.894444, 30.264167)\n",
    "#print(str(city))"
   ]
  },
  {
   "cell_type": "code",
   "execution_count": 16,
   "metadata": {},
   "outputs": [],
   "source": [
    "url = 'http://api.openweathermap.org/data/2.5/weather' \n",
    "api_key = apikeys.OWM_API_KEY\n",
    "\n",
    "#query_url = url + '?appid=' + api_key + '&q=' + city\n",
    "\n",
    "for city in cities:\n",
    "    params = {'appid': apikeys.OWM_API_KEY, 'q': city}\n",
    "    weather_response = req.get(url, params=params)\n",
    "    weather_json = weather_response.json()"
   ]
  },
  {
   "cell_type": "code",
   "execution_count": 17,
   "metadata": {},
   "outputs": [
    {
     "name": "stdout",
     "output_type": "stream",
     "text": [
      "The weather API responded with: \n",
      "{\n",
      "    \"base\": \"stations\",\n",
      "    \"clouds\": {\n",
      "        \"all\": 20\n",
      "    },\n",
      "    \"cod\": 200,\n",
      "    \"coord\": {\n",
      "        \"lat\": 35.69,\n",
      "        \"lon\": 139.69\n",
      "    },\n",
      "    \"dt\": 1512165600,\n",
      "    \"id\": 1850147,\n",
      "    \"main\": {\n",
      "        \"humidity\": 75,\n",
      "        \"pressure\": 1025,\n",
      "        \"temp\": 276.76,\n",
      "        \"temp_max\": 279.15,\n",
      "        \"temp_min\": 275.15\n",
      "    },\n",
      "    \"name\": \"Tokyo\",\n",
      "    \"sys\": {\n",
      "        \"country\": \"JP\",\n",
      "        \"id\": 7619,\n",
      "        \"message\": 0.0068,\n",
      "        \"sunrise\": 1512077585,\n",
      "        \"sunset\": 1512113269,\n",
      "        \"type\": 1\n",
      "    },\n",
      "    \"visibility\": 10000,\n",
      "    \"weather\": [\n",
      "        {\n",
      "            \"description\": \"few clouds\",\n",
      "            \"icon\": \"02n\",\n",
      "            \"id\": 801,\n",
      "            \"main\": \"Clouds\"\n",
      "        }\n",
      "    ],\n",
      "    \"wind\": {\n",
      "        \"deg\": 20,\n",
      "        \"speed\": 6.2\n",
      "    }\n",
      "}\n",
      "\n"
     ]
    }
   ],
   "source": [
    "    print(\"The weather API responded with: \") \n",
    "    print(json.dumps(weather_json, indent=4, sort_keys=True)) \n",
    "    print()"
   ]
  },
  {
   "cell_type": "code",
   "execution_count": null,
   "metadata": {
    "collapsed": true
   },
   "outputs": [],
   "source": []
  }
 ],
 "metadata": {
  "kernelspec": {
   "display_name": "Python [conda env:PythonData]",
   "language": "python",
   "name": "conda-env-PythonData-py"
  },
  "language_info": {
   "codemirror_mode": {
    "name": "ipython",
    "version": 3
   },
   "file_extension": ".py",
   "mimetype": "text/x-python",
   "name": "python",
   "nbconvert_exporter": "python",
   "pygments_lexer": "ipython3",
   "version": "3.6.3"
  }
 },
 "nbformat": 4,
 "nbformat_minor": 2
}
